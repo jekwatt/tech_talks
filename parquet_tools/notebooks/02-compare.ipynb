{
 "cells": [
  {
   "cell_type": "code",
   "execution_count": null,
   "id": "578a7dd3-1d35-4508-92a0-474bea662268",
   "metadata": {
    "tags": []
   },
   "outputs": [],
   "source": [
    "from pathlib import Path\n",
    "\n",
    "import pandas as pd"
   ]
  },
  {
   "cell_type": "markdown",
   "id": "e59ca733-a8c6-4104-8add-8f5ef91badbe",
   "metadata": {},
   "source": [
    "### Paths"
   ]
  },
  {
   "cell_type": "code",
   "execution_count": null,
   "id": "a34e1951-5687-4b2b-a9c5-e1de16f73522",
   "metadata": {
    "tags": []
   },
   "outputs": [],
   "source": [
    "# path to the data folder relative to the current working directory\n",
    "p = Path(\"../data\")"
   ]
  },
  {
   "cell_type": "code",
   "execution_count": null,
   "id": "930f1eb9-cebf-4e32-8473-112ff433d745",
   "metadata": {
    "tags": []
   },
   "outputs": [],
   "source": [
    "ls {p}"
   ]
  },
  {
   "cell_type": "code",
   "execution_count": null,
   "id": "d4e1e22e-ca63-4e9b-821d-95df8d39d599",
   "metadata": {
    "tags": []
   },
   "outputs": [],
   "source": [
    "pt_csv_path = p / \"iris.csv.gz\"\n",
    "pd_csv_path = p / \"iris_pd.csv.gz\""
   ]
  },
  {
   "cell_type": "markdown",
   "id": "d2aada5a-1910-4fd9-8f58-35996382995f",
   "metadata": {},
   "source": [
    "### Compare"
   ]
  },
  {
   "cell_type": "code",
   "execution_count": null,
   "id": "8517a55f-10ad-4218-9b4e-9a4ffd3e2ae0",
   "metadata": {
    "tags": []
   },
   "outputs": [],
   "source": [
    "df1 = pd.read_csv(pt_csv_path, compression='gzip')\n",
    "df2 = pd.read_csv(pd_csv_path, compression='gzip')"
   ]
  },
  {
   "cell_type": "code",
   "execution_count": null,
   "id": "fa64679e-5c3d-4c6a-a64e-255e2426dac4",
   "metadata": {
    "tags": []
   },
   "outputs": [],
   "source": [
    "df1.equals(df2)"
   ]
  },
  {
   "cell_type": "code",
   "execution_count": null,
   "id": "aa8d1fad-1b1b-487f-bb9b-7a9dc0b9a25b",
   "metadata": {},
   "outputs": [],
   "source": []
  }
 ],
 "metadata": {
  "kernelspec": {
   "display_name": "Python 3 (ipykernel)",
   "language": "python",
   "name": "python3"
  },
  "language_info": {
   "codemirror_mode": {
    "name": "ipython",
    "version": 3
   },
   "file_extension": ".py",
   "mimetype": "text/x-python",
   "name": "python",
   "nbconvert_exporter": "python",
   "pygments_lexer": "ipython3",
   "version": "3.10.12"
  }
 },
 "nbformat": 4,
 "nbformat_minor": 5
}
