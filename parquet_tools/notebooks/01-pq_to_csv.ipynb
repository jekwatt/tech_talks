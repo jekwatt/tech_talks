{
 "cells": [
  {
   "cell_type": "code",
   "execution_count": null,
   "id": "e2fd6c4b-873a-44ed-9f42-44b92c7cd33a",
   "metadata": {
    "tags": []
   },
   "outputs": [],
   "source": [
    "from pathlib import Path\n",
    "\n",
    "import pandas as pd"
   ]
  },
  {
   "cell_type": "markdown",
   "id": "1256eed3-52eb-4355-a464-5fd44b4801d8",
   "metadata": {},
   "source": [
    "### Input"
   ]
  },
  {
   "cell_type": "code",
   "execution_count": null,
   "id": "61bdfe1f-8c3d-4e49-a6d4-848877fd721e",
   "metadata": {
    "tags": []
   },
   "outputs": [],
   "source": [
    "# pwd"
   ]
  },
  {
   "cell_type": "code",
   "execution_count": null,
   "id": "1eaf13a2-d4f7-4565-a979-b2957da5f56c",
   "metadata": {
    "tags": []
   },
   "outputs": [],
   "source": [
    "# path to the data folder relative to the current working directory\n",
    "p = Path(\"../data\")\n",
    "input_pq_path = p / \"iris.parquet\""
   ]
  },
  {
   "cell_type": "code",
   "execution_count": null,
   "id": "95ab8df7-2201-4a3d-9c7a-144b90bcb72b",
   "metadata": {
    "tags": []
   },
   "outputs": [],
   "source": [
    "ls {input_pq_path}"
   ]
  },
  {
   "cell_type": "markdown",
   "id": "57c1ea96-667e-47ca-bd11-926a1c1b7d5c",
   "metadata": {},
   "source": [
    "### Output"
   ]
  },
  {
   "cell_type": "code",
   "execution_count": null,
   "id": "95b35799-1c75-4205-8e25-87e90b1aca94",
   "metadata": {
    "tags": []
   },
   "outputs": [],
   "source": [
    "output_csv_path = p / \"iris_pd.csv.gz\""
   ]
  },
  {
   "cell_type": "markdown",
   "id": "06b00451-12f7-4190-b447-92200a0be652",
   "metadata": {},
   "source": [
    "### Process"
   ]
  },
  {
   "cell_type": "code",
   "execution_count": null,
   "id": "2cb50e6e-2435-4786-b94f-be2b487c0e18",
   "metadata": {
    "tags": []
   },
   "outputs": [],
   "source": [
    "df_pq = pd.read_parquet(input_pq_path)"
   ]
  },
  {
   "cell_type": "code",
   "execution_count": null,
   "id": "9e940026-df53-4e55-ad76-2f46c566498b",
   "metadata": {
    "tags": []
   },
   "outputs": [],
   "source": [
    "df_pq.shape"
   ]
  },
  {
   "cell_type": "code",
   "execution_count": null,
   "id": "8b419839-9fb2-438f-b63c-de7dd10178ab",
   "metadata": {
    "tags": []
   },
   "outputs": [],
   "source": [
    "df_pq.sample(5)"
   ]
  },
  {
   "cell_type": "code",
   "execution_count": null,
   "id": "42764161-4416-4a74-bcc6-fb2dc8e94298",
   "metadata": {
    "tags": []
   },
   "outputs": [],
   "source": [
    "df_pq.to_csv(output_csv_path, index=False, compression='gzip')"
   ]
  },
  {
   "cell_type": "code",
   "execution_count": null,
   "id": "a74cf58f-5d60-40ec-ad32-934a28cbc6ec",
   "metadata": {},
   "outputs": [],
   "source": []
  }
 ],
 "metadata": {
  "kernelspec": {
   "display_name": "Python 3 (ipykernel)",
   "language": "python",
   "name": "python3"
  },
  "language_info": {
   "codemirror_mode": {
    "name": "ipython",
    "version": 3
   },
   "file_extension": ".py",
   "mimetype": "text/x-python",
   "name": "python",
   "nbconvert_exporter": "python",
   "pygments_lexer": "ipython3",
   "version": "3.10.12"
  }
 },
 "nbformat": 4,
 "nbformat_minor": 5
}
