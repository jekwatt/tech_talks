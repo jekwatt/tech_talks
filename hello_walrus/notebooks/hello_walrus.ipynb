{
 "cells": [
  {
   "cell_type": "code",
   "execution_count": null,
   "id": "6e859c3a-fb0a-47f3-ab14-c8ed1eee095a",
   "metadata": {
    "tags": []
   },
   "outputs": [],
   "source": [
    "import re"
   ]
  },
  {
   "cell_type": "markdown",
   "id": "36b5adb9-e085-4678-950f-9c2b37110219",
   "metadata": {
    "tags": []
   },
   "source": [
    "## Use cases"
   ]
  },
  {
   "cell_type": "markdown",
   "id": "d785077e-881a-4bb6-808a-beb235757cb9",
   "metadata": {
    "tags": []
   },
   "source": [
    "### 1. Avoid repetition"
   ]
  },
  {
   "cell_type": "code",
   "execution_count": null,
   "id": "beb90d18-04b7-4df7-ac87-306b20c1725b",
   "metadata": {
    "tags": []
   },
   "outputs": [],
   "source": [
    "a = \"This is very very long sentense.\""
   ]
  },
  {
   "cell_type": "code",
   "execution_count": null,
   "id": "b655e440-3dd8-4952-8087-33ad7962a709",
   "metadata": {
    "tags": []
   },
   "outputs": [],
   "source": [
    "# as in python doc\n",
    "if (n := len(a)) > 10:\n",
    "    print(f\"List is too long ({n} elements, expected <= 10)\")"
   ]
  },
  {
   "cell_type": "code",
   "execution_count": null,
   "id": "695de413-961c-4f76-8d07-70c86f2c1b90",
   "metadata": {
    "tags": []
   },
   "outputs": [],
   "source": [
    "# calling len() twice\n",
    "if len(a) > 10:\n",
    "    print(f\"List is too long ({len(a)} elements, expected <= 10)\")"
   ]
  },
  {
   "cell_type": "code",
   "execution_count": null,
   "id": "03e71c08-a1d0-4d68-88b1-aa68eefee673",
   "metadata": {
    "tags": []
   },
   "outputs": [],
   "source": [
    "# slightly better\n",
    "n = len(a)\n",
    "if n > 10:\n",
    "    print(f\"List is too long ({n} elements, expected <= 10)\")"
   ]
  },
  {
   "cell_type": "markdown",
   "id": "3dff2d6b-6ad4-4bc3-b365-d296d2e397ed",
   "metadata": {},
   "source": [
    "### 2. Regular expression"
   ]
  },
  {
   "cell_type": "code",
   "execution_count": null,
   "id": "ec0f3004-2109-42cc-bd54-4ab39d3b7fac",
   "metadata": {
    "tags": []
   },
   "outputs": [],
   "source": [
    "advertisement = \"30% discount\"\n",
    "\n",
    "discount = 0.0\n",
    "if (mo := re.search(r'(\\d+)% discount', advertisement)):\n",
    "    discount = float(mo.group(1)) / 100.0\n",
    "    print(discount)"
   ]
  },
  {
   "cell_type": "markdown",
   "id": "7588fa6a-5cc5-477e-8f17-bb04eb306794",
   "metadata": {},
   "source": [
    "### 3. While-loops"
   ]
  },
  {
   "cell_type": "code",
   "execution_count": null,
   "id": "4b6de996-03a8-45cd-b23e-10318d42626b",
   "metadata": {
    "tags": []
   },
   "outputs": [],
   "source": [
    "def process(block):\n",
    "    print(\"Processing block:\")\n",
    "    print(block)\n",
    "\n",
    "# Loop over fixed length blocks\n",
    "with open(\"myfile.txt\", \"r\") as f:\n",
    "    while (block := f.read(256)) != '':\n",
    "        process(block)"
   ]
  },
  {
   "cell_type": "markdown",
   "id": "5a17c6ca-cdf1-424c-aa3b-37d87b921184",
   "metadata": {
    "tags": []
   },
   "source": [
    "### 4. List comprehensions"
   ]
  },
  {
   "cell_type": "code",
   "execution_count": null,
   "id": "76063e78-636b-4384-8267-80e4450723eb",
   "metadata": {
    "tags": []
   },
   "outputs": [],
   "source": [
    "def normalize(name):\n",
    "    return name.lower()\n",
    "\n",
    "names = [\"WALKER\", \"EveTTe\", \"SaRaH\", \"marCy\", \"ryan\"]\n",
    "allowed_names = {normalize(name) for name in names}\n",
    "\n",
    "[clean_name.title() for name in names\n",
    " if (clean_name := normalize(name)) in allowed_names]"
   ]
  },
  {
   "cell_type": "code",
   "execution_count": null,
   "id": "18f3d802-30cc-4d76-9980-64ae6c1aab66",
   "metadata": {},
   "outputs": [],
   "source": [
    "allowed_names"
   ]
  },
  {
   "cell_type": "code",
   "execution_count": null,
   "id": "e1c513a9-8c31-40f6-8c1b-5a5e2060531b",
   "metadata": {},
   "outputs": [],
   "source": []
  }
 ],
 "metadata": {
  "kernelspec": {
   "display_name": "Python 3 (ipykernel)",
   "language": "python",
   "name": "python3"
  },
  "language_info": {
   "codemirror_mode": {
    "name": "ipython",
    "version": 3
   },
   "file_extension": ".py",
   "mimetype": "text/x-python",
   "name": "python",
   "nbconvert_exporter": "python",
   "pygments_lexer": "ipython3",
   "version": "3.10.12"
  }
 },
 "nbformat": 4,
 "nbformat_minor": 5
}
