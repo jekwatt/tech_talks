{
 "cells": [
  {
   "cell_type": "code",
   "execution_count": null,
   "id": "0bee2546-a726-4b40-ae9f-0a7fd1e39b6a",
   "metadata": {
    "tags": []
   },
   "outputs": [],
   "source": [
    "import catplotlib.catplot as clt"
   ]
  },
  {
   "cell_type": "code",
   "execution_count": null,
   "id": "98df33a3-779f-404a-9494-9c2c9c371695",
   "metadata": {},
   "outputs": [],
   "source": [
    "clt.plot()"
   ]
  },
  {
   "cell_type": "code",
   "execution_count": null,
   "id": "8d81b8c5-986b-4584-b864-4f9f8c695636",
   "metadata": {},
   "outputs": [],
   "source": [
    "clt.plot(says='matplotlib + cats = catplotlib')"
   ]
  },
  {
   "cell_type": "code",
   "execution_count": null,
   "id": "f47e8139-0430-41a2-a68a-aebafbb1633a",
   "metadata": {},
   "outputs": [],
   "source": []
  }
 ],
 "metadata": {
  "kernelspec": {
   "display_name": "Python 3 (ipykernel)",
   "language": "python",
   "name": "python3"
  },
  "language_info": {
   "codemirror_mode": {
    "name": "ipython",
    "version": 3
   },
   "file_extension": ".py",
   "mimetype": "text/x-python",
   "name": "python",
   "nbconvert_exporter": "python",
   "pygments_lexer": "ipython3",
   "version": "3.10.5"
  }
 },
 "nbformat": 4,
 "nbformat_minor": 5
}
